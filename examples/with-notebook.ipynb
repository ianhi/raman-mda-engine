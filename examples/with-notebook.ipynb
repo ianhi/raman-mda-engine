{
 "cells": [
  {
   "cell_type": "code",
   "execution_count": null,
   "id": "81a056c4-93c3-4cfa-9dde-914da33e5bb5",
   "metadata": {
    "tags": []
   },
   "outputs": [],
   "source": [
    "%matplotlib ipympl\n",
    "from pathlib import Path\n",
    "\n",
    "import matplotlib.pyplot as plt\n",
    "import napari\n",
    "import numpy as np\n",
    "import tifffile\n",
    "from aicsimageio.readers import TiffGlobReader\n",
    "from ipywidgets import Output\n",
    "from mda_simulator import ImageGenerator\n",
    "from mda_simulator.mmcore import FakeDemoCamera\n",
    "from mpl_interactions import hyperslicer\n",
    "from napari_broadcastable_points import BroadcastablePoints\n",
    "from pymmcore_plus import CMMCorePlus\n",
    "from raman_mda_engine import RamanEngine, RamanTiffAndNumpyWriter, fakeAcquirer\n",
    "from useq import MDASequence\n",
    "\n",
    "v = napari.Viewer()\n",
    "dw, main_window = v.window.add_plugin_dock_widget(\"napari-micromanager\")\n",
    "\n",
    "core = CMMCorePlus.instance()\n",
    "core.loadSystemConfiguration(\"../tests/test-config.cfg\")\n",
    "\n",
    "gen = ImageGenerator(N=4000)\n",
    "\n",
    "\n",
    "# Create an object that will modify the `snap` method of the CMMCorePlus\n",
    "# instance to return images from our ImageGenerator\n",
    "fake_cam = FakeDemoCamera(\n",
    "    gen,\n",
    "    timing=0.5,  # how many real world seconds to wait to step the ImageGenerator time\n",
    "    core=core,\n",
    ")\n",
    "\n",
    "\n",
    "metadata = {\n",
    "    \"raman\": {\n",
    "        \"z\": \"center\",\n",
    "        \"channel\": \"BF\",\n",
    "    },\n",
    "}\n",
    "init_sequence = MDASequence(\n",
    "    channels=[\"BF\"],\n",
    "    time_plan={\"interval\": 0.5, \"loops\": 2},\n",
    "    z_plan={\"range\": 50, \"step\": 5},\n",
    "    axis_order=\"tpcz\",\n",
    "    stage_positions=[(0, 1, 1), (512, 128, 0)],\n",
    ")\n",
    "\n",
    "# points = v.add_points(ndim=4)"
   ]
  },
  {
   "cell_type": "code",
   "execution_count": null,
   "id": "110cdca9-712b-43cd-a130-dcdfa678d988",
   "metadata": {
    "tags": []
   },
   "outputs": [],
   "source": [
    "engine = RamanEngine(spectra_collector=fakeAcquirer())\n",
    "core.register_mda_engine(engine)"
   ]
  },
  {
   "cell_type": "code",
   "execution_count": null,
   "id": "6227a5d1-2ff2-4d0b-ac32-1ff211e7fadc",
   "metadata": {
    "tags": []
   },
   "outputs": [],
   "source": [
    "from raman_mda_engine.aiming import SimpleGridSource"
   ]
  },
  {
   "cell_type": "code",
   "execution_count": null,
   "id": "994f2b13-2f90-4ae8-bd6a-cdd67c609ba7",
   "metadata": {
    "tags": []
   },
   "outputs": [],
   "source": [
    "engine.aiming_sources.append(SimpleGridSource(15,15))"
   ]
  },
  {
   "cell_type": "code",
   "execution_count": null,
   "id": "d94d2be9-78ff-403a-bb2c-6bda34d93804",
   "metadata": {
    "tags": []
   },
   "outputs": [],
   "source": [
    "engine.aiming_sources"
   ]
  },
  {
   "cell_type": "code",
   "execution_count": null,
   "id": "eadafa2c-d73a-4c78-b026-104355d82a5e",
   "metadata": {},
   "outputs": [],
   "source": []
  },
  {
   "cell_type": "code",
   "execution_count": null,
   "id": "c3b8d0d3-1699-40ec-bfcb-e7212e9b39f3",
   "metadata": {
    "tags": []
   },
   "outputs": [],
   "source": [
    "mda_output = Output()\n",
    "with mda_output:\n",
    "    core.run_mda(init_sequence).join()"
   ]
  },
  {
   "cell_type": "code",
   "execution_count": null,
   "id": "65b6a6fc-3515-4b25-ab1c-ce64fc5058e4",
   "metadata": {
    "tags": []
   },
   "outputs": [],
   "source": [
    "core.getImageWidth(), core.getImageHeight()"
   ]
  },
  {
   "cell_type": "code",
   "execution_count": null,
   "id": "db244755-84e4-4812-973c-2bd79b66e696",
   "metadata": {
    "tags": []
   },
   "outputs": [],
   "source": [
    "cell_points = BroadcastablePoints(\n",
    "    None,\n",
    "    #               t, c, z\n",
    "    broadcast_dims=(0, 2, 3),\n",
    "    ndim=6,\n",
    "    name=\"Cells\",\n",
    "    size=15,\n",
    "    face_color=\"#aa0000ff\",\n",
    "    edge_color=\"#5500ffff\",\n",
    ")\n",
    "bkd_points = BroadcastablePoints(\n",
    "    None,\n",
    "    #               t, c, z\n",
    "    broadcast_dims=(0, 2, 3),\n",
    "    ndim=6,\n",
    "    name=\"Bkd points\",\n",
    "    size=15,\n",
    "    face_color=\"#2d1f7f\",\n",
    "    edge_color=\"#5500ffff\",\n",
    ")\n",
    "\n",
    "v.add_layer(cell_points)\n",
    "v.add_layer(bkd_points)\n",
    "# engine.points_layers = [cell_points, bkd_points]"
   ]
  },
  {
   "cell_type": "code",
   "execution_count": null,
   "id": "ab51d066-554e-4290-b980-94401ff0371f",
   "metadata": {
    "tags": []
   },
   "outputs": [],
   "source": [
    "from raman_mda_engine.aiming import PointsLayerSource"
   ]
  },
  {
   "cell_type": "code",
   "execution_count": null,
   "id": "92d11017-b75a-4caf-b071-aa7c113201ad",
   "metadata": {
    "tags": []
   },
   "outputs": [],
   "source": [
    "points_sources = PointsLayerSource(cell_points, name='cells'), PointsLayerSource(cell_points, name='bkd')"
   ]
  },
  {
   "cell_type": "code",
   "execution_count": null,
   "id": "3f637959-3652-46a5-93b7-ad57e56227d8",
   "metadata": {
    "tags": []
   },
   "outputs": [],
   "source": [
    "engine.aiming_sources.extend(points_sources)"
   ]
  },
  {
   "cell_type": "code",
   "execution_count": null,
   "id": "1c104eb5-0252-4206-8705-4736f86cffd0",
   "metadata": {
    "tags": []
   },
   "outputs": [],
   "source": [
    "engine.aiming_sources\n"
   ]
  },
  {
   "cell_type": "code",
   "execution_count": null,
   "id": "848ac5cd-7f60-484e-86ba-ed41a13e4cdb",
   "metadata": {
    "tags": []
   },
   "outputs": [],
   "source": [
    "points_sources[0]._points"
   ]
  },
  {
   "cell_type": "code",
   "execution_count": null,
   "id": "3701029b-3f3b-483e-9d1e-47644babdb3e",
   "metadata": {
    "tags": []
   },
   "outputs": [],
   "source": [
    "points_sources[0]._points.last_displayed()\n"
   ]
  },
  {
   "cell_type": "code",
   "execution_count": null,
   "id": "29c7a939-0420-4f00-8dbd-2e775d52158e",
   "metadata": {
    "tags": []
   },
   "outputs": [],
   "source": [
    "points_sources[0].get_current_points()"
   ]
  },
  {
   "cell_type": "code",
   "execution_count": null,
   "id": "3c922c50-1a09-44ab-b948-052e24c3932f",
   "metadata": {
    "tags": []
   },
   "outputs": [],
   "source": [
    "bkd_points.data[bkd_points._slice_data(v.dims.current_step[:-2])[0]][:,-2:]"
   ]
  },
  {
   "cell_type": "code",
   "execution_count": null,
   "id": "123e1e6b-bb67-4121-8790-161ca0f8cf90",
   "metadata": {},
   "outputs": [],
   "source": [
    "bkd_points."
   ]
  },
  {
   "cell_type": "code",
   "execution_count": null,
   "id": "88e9dd85-76b9-403f-ab9b-e7e4e55c0f2a",
   "metadata": {
    "tags": []
   },
   "outputs": [],
   "source": [
    "basic_sequence = MDASequence(\n",
    "    metadata={\"raman\": {\"z\": \"center\"}},\n",
    "    channels=[\"BF\"],\n",
    "    time_plan={\"interval\": 60, \"loops\": 3},\n",
    "    # z_plan={\"range\": 30, \"step\": 10},\n",
    "    z_plan={\"relative\": [-15, 0, 15]},\n",
    "    axis_order=\"tpcz\",\n",
    "    stage_positions=[(0, 1, 1), (512, 128, 0)],\n",
    ")\n",
    "core.run_mda(basic_sequence)"
   ]
  },
  {
   "cell_type": "code",
   "execution_count": null,
   "id": "a6769542-8bcb-4a77-a49a-1a5f9218ce8e",
   "metadata": {
    "tags": []
   },
   "outputs": [],
   "source": [
    "cell_points.loaded"
   ]
  },
  {
   "cell_type": "code",
   "execution_count": null,
   "id": "cf7c5295-51e7-4b7f-a3a5-b24fd8be8d08",
   "metadata": {
    "tags": []
   },
   "outputs": [],
   "source": [
    "v.dims.current_step"
   ]
  },
  {
   "cell_type": "code",
   "execution_count": null,
   "id": "54e9b57b-7e41-4833-8089-f4b194273184",
   "metadata": {
    "tags": []
   },
   "outputs": [],
   "source": [
    "# bkd_points.data\n",
    "bkd_points.data[bkd_points._slice_data(v.dims.current_step)[0]][:,-2:]"
   ]
  },
  {
   "cell_type": "code",
   "execution_count": null,
   "id": "bdd97cea-f996-42a8-bad4-9bcd8a9cb606",
   "metadata": {},
   "outputs": [],
   "source": [
    "bkd_points._view_data"
   ]
  },
  {
   "cell_type": "code",
   "execution_count": null,
   "id": "46cb11a5-478c-40f7-bf40-120875809767",
   "metadata": {
    "tags": []
   },
   "outputs": [],
   "source": [
    "bkd_points.data.shape"
   ]
  },
  {
   "cell_type": "code",
   "execution_count": null,
   "id": "8281a913-c8f3-4264-8df8-44d11c2aa9a2",
   "metadata": {
    "tags": []
   },
   "outputs": [],
   "source": [
    "plt.figure()\n",
    "plt.imshow(tifffile.imread(\"data/run_5/t000_p000_c000_z000.tiff\"))"
   ]
  }
 ],
 "metadata": {
  "kernelspec": {
   "display_name": "Python 3 (ipykernel)",
   "language": "python",
   "name": "python3"
  },
  "language_info": {
   "codemirror_mode": {
    "name": "ipython",
    "version": 3
   },
   "file_extension": ".py",
   "mimetype": "text/x-python",
   "name": "python",
   "nbconvert_exporter": "python",
   "pygments_lexer": "ipython3",
   "version": "3.10.5"
  },
  "widgets": {
   "application/vnd.jupyter.widget-state+json": {
    "state": {},
    "version_major": 2,
    "version_minor": 0
   }
  }
 },
 "nbformat": 4,
 "nbformat_minor": 5
}
